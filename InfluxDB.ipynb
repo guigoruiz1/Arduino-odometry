{
 "cells": [
  {
   "cell_type": "markdown",
   "id": "5c7f7e4f-cf3f-4983-a470-b3866878468c",
   "metadata": {},
   "source": [
    "# Timestamp data"
   ]
  },
  {
   "cell_type": "code",
   "execution_count": null,
   "id": "b89a9fdc-0722-4566-8495-ff8bf907379b",
   "metadata": {},
   "outputs": [],
   "source": [
    "# Imports\n",
    "import pandas as pd\n",
    "import numpy as np\n",
    "from tqdm.auto import tqdm as tqdm\n",
    "tqdm.pandas(desc=\"Progress\")"
   ]
  },
  {
   "cell_type": "code",
   "execution_count": 6,
   "id": "cf0dd1b7-1ad2-48d1-953d-506fe5cffb19",
   "metadata": {},
   "outputs": [],
   "source": [
    "# Metadata\n",
    "header_rows = 3\n",
    "input_file = \"DATA.CSV\"\n",
    "output_file = \"INFLUX_\" + input_file"
   ]
  },
  {
   "cell_type": "code",
   "execution_count": 7,
   "id": "57f1d5a3-fe8a-4de5-8f7c-29e8cf00bfd8",
   "metadata": {},
   "outputs": [],
   "source": [
    "# Load data\n",
    "df = pd.read_csv(input_file, header=header_rows, engine='pyarrow')\n",
    "\n",
    "# Load data header\n",
    "header = \"\"\n",
    "with open(input_file) as file:\n",
    "    for x in range(header_rows):\n",
    "        header += next(file)"
   ]
  },
  {
   "cell_type": "code",
   "execution_count": 8,
   "id": "6eab0a63-881f-4068-a683-85be059364ef",
   "metadata": {},
   "outputs": [],
   "source": [
    "# Convert time to datetime dtype\n",
    "df[\"_time\"] = pd.to_datetime(df[\"_time\"], unit=\"ms\")"
   ]
  },
  {
   "cell_type": "code",
   "execution_count": 9,
   "id": "a7136530-6f17-4ee2-9e72-183da8d1d07d",
   "metadata": {},
   "outputs": [],
   "source": [
    "# Determine first timestamp\n",
    "now = pd.Timestamp.now()\n",
    "last = df[\"_time\"].values[-1]\n",
    "start = now - last"
   ]
  },
  {
   "cell_type": "code",
   "execution_count": 10,
   "id": "0f6483d3-dd75-4b54-b1de-dfd172c2eb44",
   "metadata": {},
   "outputs": [],
   "source": [
    "# Add first timestamp to time\n",
    "df[\"_time\"] += start"
   ]
  },
  {
   "cell_type": "code",
   "execution_count": null,
   "id": "1444b0be-f5ca-4f55-952f-d3bf8c8420b1",
   "metadata": {},
   "outputs": [],
   "source": [
    "# Format time as ISO string\n",
    "df[\"_time\"] = df[\"_time\"].progress_apply(lambda x: x.isoformat())"
   ]
  },
  {
   "cell_type": "code",
   "execution_count": null,
   "id": "30113673-86e2-4971-8da1-3b66134ede7a",
   "metadata": {},
   "outputs": [],
   "source": [
    "# Save data to CSV\n",
    "df.to_csv(output_file, header=False, index=False, date_format=None)"
   ]
  },
  {
   "cell_type": "code",
   "execution_count": null,
   "id": "17736169-91c2-4972-a256-a276cfb5a4f0",
   "metadata": {},
   "outputs": [],
   "source": [
    "# Add header to CSV\n",
    "with open(output_file, \"r+\") as file:\n",
    "    content = file.read()\n",
    "    file.seek(0, 0)\n",
    "    file.write(header + content)"
   ]
  },
  {
   "cell_type": "markdown",
   "id": "6d0716c3-38ca-4a56-b9eb-75e2819cd776",
   "metadata": {
    "tags": []
   },
   "source": [
    "# Influxdb Client"
   ]
  },
  {
   "cell_type": "code",
   "execution_count": null,
   "id": "1797479a-9c83-416b-ab77-fef6037634db",
   "metadata": {},
   "outputs": [],
   "source": [
    "import os\n",
    "from influxdb_client import InfluxDBClient, Point, WritePrecision\n",
    "from influxdb_client.client.write_api import SYNCHRONOUS\n",
    "\n",
    "token = os.environ.get(\"INFLUXDB_TOKEN\")\n",
    "org = \"Synology\"\n",
    "bucket = \"Arduino\"\n",
    "\n",
    "# with InfluxDBClient(url=\"http://ds220plus.local:8086\", token=token, org=org) as client:"
   ]
  }
 ],
 "metadata": {
  "kernelspec": {
   "display_name": "Python 3 (ipykernel)",
   "language": "python",
   "name": "python3"
  },
  "language_info": {
   "codemirror_mode": {
    "name": "ipython",
    "version": 3
   },
   "file_extension": ".py",
   "mimetype": "text/x-python",
   "name": "python",
   "nbconvert_exporter": "python",
   "pygments_lexer": "ipython3",
   "version": "3.10.8"
  }
 },
 "nbformat": 4,
 "nbformat_minor": 5
}
